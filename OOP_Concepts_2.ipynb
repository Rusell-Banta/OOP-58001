{
  "nbformat": 4,
  "nbformat_minor": 0,
  "metadata": {
    "colab": {
      "name": "OOP Concepts 2",
      "provenance": [],
      "authorship_tag": "ABX9TyMJK5W4SaRnVhF0yBXGWXsy",
      "include_colab_link": true
    },
    "kernelspec": {
      "name": "python3",
      "display_name": "Python 3"
    },
    "language_info": {
      "name": "python"
    }
  },
  "cells": [
    {
      "cell_type": "markdown",
      "metadata": {
        "id": "view-in-github",
        "colab_type": "text"
      },
      "source": [
        "<a href=\"https://colab.research.google.com/github/Rusell-Banta/OOP-58001/blob/main/OOP_Concepts_2.ipynb\" target=\"_parent\"><img src=\"https://colab.research.google.com/assets/colab-badge.svg\" alt=\"Open In Colab\"/></a>"
      ]
    },
    {
      "cell_type": "markdown",
      "source": [
        "Classes with Multiple Objects"
      ],
      "metadata": {
        "id": "C8lgLy-Lgncb"
      }
    },
    {
      "cell_type": "code",
      "source": [
        "class Birds:\n",
        "  def __init__(self, bird_name):\n",
        "    self.bird_name = bird_name\n",
        "  def flying_birds(self):\n",
        "    print(f\"{self.bird_name} flies above clouds.\")\n",
        "  def non_flying_birds(self):\n",
        "    print(f\"{self.bird_name} is the national bird of the Philippines.\")\n",
        "  \n",
        "vulture = Birds(\"Griffon Vulturte\")\n",
        "crane = Birds(\"Common Crane\")\n",
        "emu = Birds(\"Emu\")\n",
        "\n",
        "vulture.flying_birds()\n",
        "crane.flying_birds()\n",
        "emu.non_flying_birds()"
      ],
      "metadata": {
        "colab": {
          "base_uri": "https://localhost:8080/"
        },
        "id": "K_xX5nzjgx06",
        "outputId": "ce14aae5-464b-48be-f938-85b5755cbdea"
      },
      "execution_count": 1,
      "outputs": [
        {
          "output_type": "stream",
          "name": "stdout",
          "text": [
            "Griffon Vulturte flies above clouds.\n",
            "Common Crane flies above clouds.\n",
            "Emu is the national bird of the Philippines.\n"
          ]
        }
      ]
    },
    {
      "cell_type": "markdown",
      "source": [
        "Encapsulation with Private Attributes"
      ],
      "metadata": {
        "id": "98WCHcJBhFgJ"
      }
    },
    {
      "cell_type": "code",
      "source": [
        "class foo:\n",
        "  def __init__(self, a, b):\n",
        "    self._a = a\n",
        "    self._b = b\n",
        "  def add(self):\n",
        "    return self._a + self._b\n",
        "foo_object = foo(3,4)\n",
        "foo_object.add()\n",
        "\n",
        "foo_object.a = 6\n",
        "foo_object.add()"
      ],
      "metadata": {
        "colab": {
          "base_uri": "https://localhost:8080/"
        },
        "id": "iw3xkFpRhQmC",
        "outputId": "ab737178-643d-4460-b54e-48ec05b9fb2a"
      },
      "execution_count": 2,
      "outputs": [
        {
          "output_type": "execute_result",
          "data": {
            "text/plain": [
              "7"
            ]
          },
          "metadata": {},
          "execution_count": 2
        }
      ]
    },
    {
      "cell_type": "markdown",
      "source": [
        "Encapsulation by Mangling with Double Underscore"
      ],
      "metadata": {
        "id": "VtjvmFHzhWZX"
      }
    },
    {
      "cell_type": "code",
      "source": [
        "class Counter:\n",
        "  def __init__(self):\n",
        "    self.current = 0 \n",
        "\n",
        "  def increment(self):\n",
        "    self.current += 1 #current = current+1\n",
        "  \n",
        "  def value(self):\n",
        "    return self.current\n",
        "  \n",
        "  def reset(self):\n",
        "    self.current = 0 \n",
        "  \n",
        "counter = Counter()\n",
        "\n",
        "counter.increment()\n",
        "counter.increment()\n",
        "counter.increment()\n",
        "\n",
        "print(counter.value())"
      ],
      "metadata": {
        "colab": {
          "base_uri": "https://localhost:8080/"
        },
        "id": "Hj9F3zQUhYMk",
        "outputId": "cb9c0e6b-b4af-40e3-8472-51f9bba31d22"
      },
      "execution_count": 3,
      "outputs": [
        {
          "output_type": "stream",
          "name": "stdout",
          "text": [
            "3\n"
          ]
        }
      ]
    },
    {
      "cell_type": "code",
      "source": [
        "class Counter:\n",
        "  def __init__(self):\n",
        "    self.__current = 0\n",
        "\n",
        "  def increment(self):\n",
        "    self.__current += 1 #current = currrent+1\n",
        "\n",
        "  def value(self):\n",
        "    return self.__current\n",
        "\n",
        "  def reset (self):\n",
        "    self.current = 0\n",
        "  \n",
        "counter = Counter()\n",
        "\n",
        "counter.increment()\n",
        "counter.increment()\n",
        "counter.increment()\n",
        "\n",
        "print(counter.reset())"
      ],
      "metadata": {
        "colab": {
          "base_uri": "https://localhost:8080/"
        },
        "id": "I-p6CJWBhcjh",
        "outputId": "07e0a3fd-f64f-4b54-c5a4-d772df4c3377"
      },
      "execution_count": 4,
      "outputs": [
        {
          "output_type": "stream",
          "name": "stdout",
          "text": [
            "None\n"
          ]
        }
      ]
    },
    {
      "cell_type": "markdown",
      "source": [
        "Inheritance"
      ],
      "metadata": {
        "id": "EIQ42L4ehfeq"
      }
    },
    {
      "cell_type": "code",
      "source": [
        "class Person:\n",
        "  def __init__(self, fname, sname):\n",
        "    self.fname = fname\n",
        "    self.sname = sname\n",
        "  def printname(self):\n",
        "    print(self.fname,self.sname)\n",
        "\n",
        "x = Person(\"Jan Rusell\",\"Banta\")\n",
        "x.printname()\n",
        "\n",
        "class Teacher(Person):\n",
        "  pass\n",
        "\n",
        "x = Teacher(\"Rizette\",\"Sayo\")\n",
        "x.printname()"
      ],
      "metadata": {
        "colab": {
          "base_uri": "https://localhost:8080/"
        },
        "id": "9NI3V9fOhfy1",
        "outputId": "b2af3486-181e-4f2d-8765-126a92d395c7"
      },
      "execution_count": 5,
      "outputs": [
        {
          "output_type": "stream",
          "name": "stdout",
          "text": [
            "Jan Rusell Banta\n",
            "Rizette Sayo\n"
          ]
        }
      ]
    },
    {
      "cell_type": "markdown",
      "source": [
        "Polymorphism"
      ],
      "metadata": {
        "id": "YnugqTMAhpoj"
      }
    },
    {
      "cell_type": "code",
      "source": [
        "class RegularPolygon:\n",
        "    def __init__(self, side):\n",
        "        self._side = side\n",
        "class Square(RegularPolygon):\n",
        "    def area(self):\n",
        "        return self._side * self._side\n",
        "class EquilateralTriangle(RegularPolygon):\n",
        "    def area(self):\n",
        "        return self._side * self._side * 0.433\n",
        "\n",
        "obj1 = Square(4)\n",
        "obj2 = EquilateralTriangle(3)\n",
        "\n",
        "print(obj1.area())\n",
        "print(obj2.area())"
      ],
      "metadata": {
        "colab": {
          "base_uri": "https://localhost:8080/"
        },
        "id": "7p6KJKg-hqAN",
        "outputId": "160d4b61-874f-4640-c5d9-4df438ce6a49"
      },
      "execution_count": 6,
      "outputs": [
        {
          "output_type": "stream",
          "name": "stdout",
          "text": [
            "16\n",
            "3.897\n"
          ]
        }
      ]
    },
    {
      "cell_type": "markdown",
      "source": [
        "Application 1 - 30% prelim, 30% midterm, 40% finals = Semestral Grade\n",
        "\n",
        "1. Create a Python program that displays the name of thre students (Studen 1, Student 2 and Student 3) and their term grades\n",
        "2. Create a class name Person and attribute - std1, std2, std3, pre, mid, fin\n",
        "3. Compute the average of each term gradde using Grade() method\n",
        "4. Information about studnet's grade must be hidden from others"
      ],
      "metadata": {
        "id": "iyCOnY2AhwS6"
      }
    },
    {
      "cell_type": "code",
      "source": [
        "import random\n",
        "class Person:\n",
        "  def __init__(self, name, pre, mid, fin):\n",
        "    self._name = name\n",
        "    self._pre = pre* 0.30\n",
        "    self._mid = mid* 0.30\n",
        "    self._fin = fin* 0.40\n",
        "    \n",
        "  def Grades(self):\n",
        "     return print(self._name, \"has a Semestral Grade of\", self._pre + self._mid + self._fin ,\"%\")\n",
        "\n",
        "\n",
        "std1 = Person(\"Student 1: Christian Dale Gutierrez\" , random.randint(75,99) , random.randint(75,99) , random.randint(75,99)) \n",
        "std2 = Person(\"Student 2: Andre Isaac Fulgencio\" , random.randint(75,99) , random.randint(75,99) , random.randint(75,99))\n",
        "std3 = Person(\"Student 3: Jeralph Red\" , random.randint(75,99) , random.randint(75,99) , random.randint(75,99))\n",
        "\n",
        "x = input(str(\"Which student's grades you wish to view:\\nType 1, 2, or 3\\n\"))\n",
        "\n",
        "\n",
        "if x == \"1\":\n",
        "  std1.Grades()\n",
        "else:\n",
        "  if x == \"2\":\n",
        "    std2.Grades()\n",
        "  else:\n",
        "    if x == \"3\":\n",
        "      std3.Grades()\n",
        "    else:\n",
        "      print(\"Invalid Student\")"
      ],
      "metadata": {
        "colab": {
          "base_uri": "https://localhost:8080/"
        },
        "id": "e7nIYJZ7h_BK",
        "outputId": "d27c50cb-b20d-4b3c-dea9-92f10a85430e"
      },
      "execution_count": 9,
      "outputs": [
        {
          "output_type": "stream",
          "name": "stdout",
          "text": [
            "Which student's grades you wish to view:\n",
            "Type 1, 2, or 3\n",
            "1\n",
            "Student 1: Christian Dale Gutierrez has a Semestral Grade of 83.80000000000001 %\n"
          ]
        }
      ]
    }
  ]
}