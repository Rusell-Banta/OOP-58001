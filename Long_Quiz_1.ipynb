{
  "nbformat": 4,
  "nbformat_minor": 0,
  "metadata": {
    "colab": {
      "name": "Long Quiz #1",
      "provenance": [],
      "authorship_tag": "ABX9TyP4Bue2iVzwj+CDkln7kfQf",
      "include_colab_link": true
    },
    "kernelspec": {
      "name": "python3",
      "display_name": "Python 3"
    },
    "language_info": {
      "name": "python"
    }
  },
  "cells": [
    {
      "cell_type": "markdown",
      "metadata": {
        "id": "view-in-github",
        "colab_type": "text"
      },
      "source": [
        "<a href=\"https://colab.research.google.com/github/Rusell-Banta/OOP-58001/blob/main/Long_Quiz_1.ipynb\" target=\"_parent\"><img src=\"https://colab.research.google.com/assets/colab-badge.svg\" alt=\"Open In Colab\"/></a>"
      ]
    },
    {
      "cell_type": "markdown",
      "source": [
        "1. Write a Python program that asks the user to enter the radius of a circle and solve its area and perimeter"
      ],
      "metadata": {
        "id": "giKOHDEE6K3-"
      }
    },
    {
      "cell_type": "markdown",
      "source": [
        "2. Create a class name Circle allowing you to build a circle with radius and pi attributes."
      ],
      "metadata": {
        "id": "TCxFeKTH6fBH"
      }
    },
    {
      "cell_type": "markdown",
      "source": [
        "3. Create a method Display() the perimeter and area using an instantiation of a class.\n",
        "\n"
      ],
      "metadata": {
        "id": "rfvScwCi6h5x"
      }
    },
    {
      "cell_type": "markdown",
      "source": [
        "4. Create a Perimeter() method to calculate the perimeter of the circle and an Area() method to calculate the area of ​​the circle."
      ],
      "metadata": {
        "id": "O1_9RsQR6jmr"
      }
    },
    {
      "cell_type": "code",
      "source": [
        "class Circle():\n",
        "  def __init__ (self, radius):\n",
        "    self.radius = int (radius)\n",
        "\n",
        "  def Perimeter (self):\n",
        "    return 2 * pi * self.radius\n",
        "  \n",
        "  def Area (self):\n",
        "    return pi * (self.radius ** 2)\n",
        "\n",
        "  def display (self):\n",
        "    print (\"The perimeter of the circle is: \", self.Perimeter())\n",
        "    print (\"The area of the circle is: \", self.Area())\n",
        "\n",
        "pi = 3.14\n",
        "round= Circle (input())\n",
        "round.display()"
      ],
      "metadata": {
        "colab": {
          "base_uri": "https://localhost:8080/"
        },
        "id": "ZyBsvOa_6nBo",
        "outputId": "d5529feb-75d8-4a97-cf87-2567cd181ec4"
      },
      "execution_count": 3,
      "outputs": [
        {
          "output_type": "stream",
          "name": "stdout",
          "text": [
            "17\n",
            "The perimeter of the circle is:  106.76\n",
            "The area of the circle is:  907.46\n"
          ]
        }
      ]
    }
  ]
}