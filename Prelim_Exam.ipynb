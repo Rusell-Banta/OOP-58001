{
  "nbformat": 4,
  "nbformat_minor": 0,
  "metadata": {
    "colab": {
      "name": "Prelim Exam",
      "provenance": [],
      "authorship_tag": "ABX9TyP2LfK7k6TwmruOYaApby/O",
      "include_colab_link": true
    },
    "kernelspec": {
      "name": "python3",
      "display_name": "Python 3"
    },
    "language_info": {
      "name": "python"
    }
  },
  "cells": [
    {
      "cell_type": "markdown",
      "metadata": {
        "id": "view-in-github",
        "colab_type": "text"
      },
      "source": [
        "<a href=\"https://colab.research.google.com/github/Rusell-Banta/OOP-58001/blob/main/Prelim_Exam.ipynb\" target=\"_parent\"><img src=\"https://colab.research.google.com/assets/colab-badge.svg\" alt=\"Open In Colab\"/></a>"
      ]
    },
    {
      "cell_type": "markdown",
      "source": [
        "Create a class named Student with attributes: Name, Student_No, Age, School, and Course"
      ],
      "metadata": {
        "id": "pqfO1F4LJRQt"
      }
    },
    {
      "cell_type": "code",
      "source": [
        "class Student:\n",
        "\n",
        "  def __init__(self,Name,Student_No,Age,School,Course):\n",
        "    self.Name = Name\n",
        "    self.Student_No = Student_No\n",
        "    self.Age = Age\n",
        "    self.School = School\n",
        "    self.Course = Course\n",
        "\n",
        "  def self(self) :\n",
        "    print(\"Name: \", self.Name)\n",
        "    print(\"Student_No: \", self.Student_No)\n",
        "    print(\"Age: \", self.Age)\n",
        "    print(\"School: \", self.School)\n",
        "    print(\"Course: \", self.Course)\n",
        "\n",
        "Myself = Student(\"Jan Rusell Banta\", 202115282, 19, \"Adamson University\", \"BS Computer Engineering\")\n",
        "Myself.self()\n",
        "\n"
      ],
      "metadata": {
        "colab": {
          "base_uri": "https://localhost:8080/"
        },
        "id": "3kKqBb-WJTIp",
        "outputId": "1bd508e7-e111-45f5-ab6b-f48ff0fb1f61"
      },
      "execution_count": 13,
      "outputs": [
        {
          "output_type": "stream",
          "name": "stdout",
          "text": [
            "Name:  Jan Rusell Banta\n",
            "Student_No:  202115282\n",
            "Age:  19\n",
            "School:  Adamson University\n",
            "Course:  BS Computer Engineering\n"
          ]
        }
      ]
    }
  ]
}