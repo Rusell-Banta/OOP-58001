{
  "nbformat": 4,
  "nbformat_minor": 0,
  "metadata": {
    "colab": {
      "name": "Concepts in Python",
      "provenance": [],
      "authorship_tag": "ABX9TyOHskGDGY5+zKuLQsDFaK57",
      "include_colab_link": true
    },
    "kernelspec": {
      "name": "python3",
      "display_name": "Python 3"
    },
    "language_info": {
      "name": "python"
    }
  },
  "cells": [
    {
      "cell_type": "markdown",
      "metadata": {
        "id": "view-in-github",
        "colab_type": "text"
      },
      "source": [
        "<a href=\"https://colab.research.google.com/github/Rusell-Banta/OOP-58001/blob/main/Concepts_in_Python.ipynb\" target=\"_parent\"><img src=\"https://colab.research.google.com/assets/colab-badge.svg\" alt=\"Open In Colab\"/></a>"
      ]
    },
    {
      "cell_type": "markdown",
      "source": [
        "Create a class"
      ],
      "metadata": {
        "id": "tdXzIo-GB9Aq"
      }
    },
    {
      "cell_type": "code",
      "source": [
        "class Car:\n",
        "  pass"
      ],
      "metadata": {
        "id": "o6izQK66B9-N"
      },
      "execution_count": 1,
      "outputs": []
    },
    {
      "cell_type": "code",
      "source": [
        "class MyClass:\n",
        "  X = 40"
      ],
      "metadata": {
        "id": "q36wJOUBCFMc"
      },
      "execution_count": 2,
      "outputs": []
    },
    {
      "cell_type": "markdown",
      "source": [
        "Create an Object"
      ],
      "metadata": {
        "id": "zqKD7A0bCJSy"
      }
    },
    {
      "cell_type": "code",
      "source": [
        "class Car:\n",
        "  def __init__(self,name,color):\n",
        "    self.name = name\n",
        "    self.color = color\n",
        "    \n",
        "    def description(self):\n",
        "      return \"The\" + self.name + \"has a color\" + self.color\n",
        "\n",
        "      def show(self):\n",
        "        print(\"The\" + self.name + \"has a color\" + self.color)\n",
        "\n",
        "    car1 = Car(\"Mitsubishi Xpander\", \"gray\")\n",
        "    car1.show()"
      ],
      "metadata": {
        "id": "VWH9trhkCMrZ"
      },
      "execution_count": 4,
      "outputs": []
    },
    {
      "cell_type": "markdown",
      "source": [
        "Object Methods"
      ],
      "metadata": {
        "id": "VwG2YmFQCydw"
      }
    },
    {
      "cell_type": "code",
      "source": [
        "class Person:\n",
        "  def __init__(self,name, age):\n",
        "    self.name = name\n",
        "    self.age = age\n",
        "  def myFunction(self):\n",
        "    print(\"Hi! My Name is\", self.name)\n",
        "    print(\"I am\", self.name)\n",
        "\n",
        "p1 = Person(\"Rusell\", 18)\n",
        "p1.myFunction()"
      ],
      "metadata": {
        "colab": {
          "base_uri": "https://localhost:8080/"
        },
        "id": "yZFHIcBLC1dz",
        "outputId": "da988cf9-d5f9-421d-b66c-a297b447405e"
      },
      "execution_count": 8,
      "outputs": [
        {
          "output_type": "stream",
          "name": "stdout",
          "text": [
            "Hi! My Name is Rusell\n",
            "I am Rusell\n"
          ]
        }
      ]
    },
    {
      "cell_type": "markdown",
      "source": [
        "Modify an Object Property"
      ],
      "metadata": {
        "id": "W6qqhrUTDQZu"
      }
    },
    {
      "cell_type": "code",
      "source": [
        "class Car():\n",
        "  def __init__(self,name,color):\n",
        "    self.name = name\n",
        "    self.color = color\n",
        "\n",
        "  def description(self):\n",
        "    return self.name + self.color\n",
        "\n",
        "  def show(self):\n",
        "    print(\"The brand and the color of the car is\", self.description())\n",
        "\n",
        "obj1 = Car(\"Mitsubishi Xpander\",\" gray\")\n",
        "obj1.show()"
      ],
      "metadata": {
        "colab": {
          "base_uri": "https://localhost:8080/"
        },
        "id": "Am4rZX0fDTcm",
        "outputId": "1e676b81-c7d7-4bcf-bccb-604a3319ac51"
      },
      "execution_count": 11,
      "outputs": [
        {
          "output_type": "stream",
          "name": "stdout",
          "text": [
            "The brand and the color of the car is Mitsubishi Xpander gray\n"
          ]
        }
      ]
    },
    {
      "cell_type": "markdown",
      "source": [
        "Applcation 1- Write a program that computes for the Area and Perimeter of a Square, and create a class name Square with side as its attribute"
      ],
      "metadata": {
        "id": "82AgG-3-DxZU"
      }
    },
    {
      "cell_type": "code",
      "source": [
        "#Area of a Square = s*S\n",
        "#Perimeter of a Square = 8*s = s+s+s+s\n",
        "\n",
        "class Square:\n",
        "  def __init__(self, side):\n",
        "    self.side = side\n",
        "\n",
        "  def Area(self):\n",
        "    return self.side * self.side\n",
        "\n",
        "  def Perimeter(self):\n",
        "    return 8*(self.side)\n",
        "\n",
        "  def display(self):\n",
        "    print(\"The area of a square is\", self.Area())\n",
        "    print(\"The perimeter of a square is\", self.Perimeter())\n",
        "\n",
        "sq1 = Square(2)\n",
        "sq1.display()"
      ],
      "metadata": {
        "colab": {
          "base_uri": "https://localhost:8080/"
        },
        "id": "7YO1C6HhDyAu",
        "outputId": "71a486c2-bd39-4e1c-9194-7ad78d36f357"
      },
      "execution_count": 18,
      "outputs": [
        {
          "output_type": "stream",
          "name": "stdout",
          "text": [
            "The area of a square is 4\n",
            "The perimeter of a square is 16\n"
          ]
        }
      ]
    },
    {
      "cell_type": "markdown",
      "source": [
        "Application 2 - Write a Python program that displays your student no. and Fullname (Surname, First Name, MI) and create a class name OOP_58001"
      ],
      "metadata": {
        "id": "rmtS5aVZEngB"
      }
    },
    {
      "cell_type": "code",
      "source": [
        "class Person:\n",
        " def __init__(self,student,number):\n",
        "  self.student = student\n",
        "  self.number = number\n",
        "\n",
        " def myFunction(self):\n",
        "  print(\"I am\",self.student,\"and my student number is: \", self.number)\n",
        "  print(\"Class name - OOP_58001\")\n",
        "\n",
        "\n",
        "p1= Person(\"Banta, Jan Rusell V.\", 202115282)\n",
        "p1.myFunction()"
      ],
      "metadata": {
        "colab": {
          "base_uri": "https://localhost:8080/"
        },
        "id": "JgVlT3PZEoHY",
        "outputId": "e0950083-9db3-40a4-b8ac-ec69aeb9fd37"
      },
      "execution_count": 25,
      "outputs": [
        {
          "output_type": "stream",
          "name": "stdout",
          "text": [
            "I am Banta, Jan Rusell V. and my student number is:  202115282\n",
            "Class name - OOP_58001\n"
          ]
        }
      ]
    }
  ]
}